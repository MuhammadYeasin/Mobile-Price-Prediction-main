{
 "cells": [
  {
   "cell_type": "markdown",
   "metadata": {
    "id": "n0ZKqZaTWkpg"
   },
   "source": [
    "# Portfolio Part 3 - Analysis of Mobile Price Data (2024 S1)"
   ]
  },
  {
   "cell_type": "markdown",
   "metadata": {
    "id": "O9R7rVmlXaMX"
   },
   "source": [
    "In this Portfolio task, you will work on a new dataset named 'Mobile Price Data', it contains numerous details about mobile phone hardware, specifications, and prices. Your main task is to train classification models to predict **mobile phone prices** ('price range' in the dataset)and evaluate the strengths and weaknesses of these models."
   ]
  },
  {
   "cell_type": "markdown",
   "metadata": {
    "id": "zHC8wWkVZVBG"
   },
   "source": [
    "Here's the explanation of each column:"
   ]
  },
  {
   "cell_type": "markdown",
   "metadata": {
    "id": "_O1tyfN3ZvE-"
   },
   "source": [
    "|Column|Meaning|\n",
    "|:-----:|:-----:|\n",
    "|battery power|Total energy a battery can store in one time measured in mAh|\n",
    "|blue|Has bluetooth or not|\n",
    "|clock speed|speed at which microprocessor executes instructions|\n",
    "|dual sim|Has dual sim support or not|\n",
    "|fc|Front Camera mega pixels|\n",
    "|four g|Has 4G or not|\n",
    "|int memory|Internal Memory in Gigabytes|\n",
    "|m dep|Mobile Depth in cm|\n",
    "|mobile wt|Weight of mobile phone|\n",
    "|n cores|Number of cores of processor|\n",
    "|pc|Primary Camera mega pixels|\n",
    "|px height|Pixel Resolution Height|\n",
    "|px width|Pixel Resolution Width|\n",
    "|ram|Random Access Memory in Mega Bytes|\n",
    "|sc h|Screen Height of mobile in cm|\n",
    "|sc w|Screen Width of mobile in cm|\n",
    "|talk time|longest time that a single battery charge will last when you are|\n",
    "|three g|Has 3G or not|\n",
    "|touch screen|Has touch screen or not|\n",
    "|wifi|Has wifi or not|\n",
    "|price range|This is the target variable with value of 0(low cost), 1(medium cost), 2(high cost) and 3(very high cost)|"
   ]
  },
  {
   "cell_type": "markdown",
   "metadata": {
    "id": "fmFqaGooclqa"
   },
   "source": [
    "Blue, dual sim, four g, three g, touch screen, and wifi are all binary attributes, 0 for not and 1 for yes."
   ]
  },
  {
   "cell_type": "markdown",
   "metadata": {
    "id": "o0VDQbC-es_8"
   },
   "source": [
    "Your high level goal in this notebook is to build and evaluate predictive models for 'price range' from other available features. More specifically, you need to **complete the following major steps**:\n",
    "\n",
    "1. ***Explore the data*** and ***clean the data if necessary***. For example, remove abnormal instanaces and replace missing values.\n",
    "\n",
    "2. ***Study the correlation*** between 'price range' with other features. And ***select the variables*** that you think are helpful for predicting the price range. We do not limit the number of variables.\n",
    "\n",
    "3. ***Split the dataset*** (Trainging set : Test set = 8 : 2)\n",
    "\n",
    "4. ***Train a logistic regression model*** to predict 'price range' based on the selected features (from the second step). ***Calculate the accuracy*** of your model. (You are required to report the accuracy from both training set and test set.) ***Explain your model and evaluate its performance*** (Is the model performing well? If yes, what factors might be contributing to the good performance of your model? If not, how can improvements be made?).\n",
    "\n",
    "5. ***Train a KNN model*** to predict 'price range' based on the selected features (you can use the features selected from the second step and set K with an ad-hoc manner in this step. ***Calculate the accuracy*** of your model. (You are required to report the accuracy from both training set and test set.)\n",
    "\n",
    "6. ***Tune the hyper-parameter K*** in KNN (Hints: GridsearchCV), ***visualize the results***, and ***explain*** how K influences the prediction performance.\n",
    "\n",
    "  Hints for visualization: You can use line chart to visualize K and mean accuracy scores on test set."
   ]
  },
  {
   "cell_type": "markdown",
   "metadata": {
    "id": "RAcIxzIldzSZ"
   },
   "source": [
    "Note 1: In this assignment, we no longer provide specific guidance and templates for each sub task. You should learn how to properly comment your notebook by yourself to make your notebook file readable.\n",
    "\n",
    "Note 2: You will not being evaluated on the accuracy of the model but on the process that you use to generate it and your explanation."
   ]
  },
  {
   "cell_type": "markdown",
   "metadata": {
    "id": "UpCBB45NV0p_"
   },
   "source": [
    "### Imported the Dataset\n"
   ]
  },
  {
   "cell_type": "code",
   "execution_count": 20,
   "metadata": {},
   "outputs": [
    {
     "name": "stdout",
     "output_type": "stream",
     "text": [
      "The length of the dataset is : 2000\n"
     ]
    }
   ],
   "source": [
    "import pandas as pd\n",
    "import numpy as np\n",
    "from sklearn.model_selection import train_test_split\n",
    "from sklearn import linear_model\n",
    "from sklearn.metrics import r2_score\n",
    "import pandas as pd\n",
    "from sklearn.model_selection import train_test_split\n",
    "from sklearn.linear_model import LogisticRegression\n",
    "from sklearn.metrics import accuracy_score\n",
    "from sklearn.neighbors import KNeighborsClassifier\n",
    "from sklearn.model_selection import train_test_split, GridSearchCV\n",
    "\n",
    "import seaborn as sns\n",
    "import matplotlib.pylab as plt\n",
    "%matplotlib inline\n",
    "\n",
    "dataset = pd.read_csv('Mobile_Price_Data.csv')\n",
    "print('The length of the dataset is : ' + str(len(dataset)))"
   ]
  },
  {
   "cell_type": "markdown",
   "metadata": {},
   "source": [
    "### Exploring the dataset"
   ]
  },
  {
   "cell_type": "code",
   "execution_count": 21,
   "metadata": {},
   "outputs": [
    {
     "data": {
      "text/html": [
       "<div>\n",
       "<style scoped>\n",
       "    .dataframe tbody tr th:only-of-type {\n",
       "        vertical-align: middle;\n",
       "    }\n",
       "\n",
       "    .dataframe tbody tr th {\n",
       "        vertical-align: top;\n",
       "    }\n",
       "\n",
       "    .dataframe thead th {\n",
       "        text-align: right;\n",
       "    }\n",
       "</style>\n",
       "<table border=\"1\" class=\"dataframe\">\n",
       "  <thead>\n",
       "    <tr style=\"text-align: right;\">\n",
       "      <th></th>\n",
       "      <th>battery_power</th>\n",
       "      <th>blue</th>\n",
       "      <th>clock_speed</th>\n",
       "      <th>dual_sim</th>\n",
       "      <th>fc</th>\n",
       "      <th>four_g</th>\n",
       "      <th>int_memory</th>\n",
       "      <th>m_dep</th>\n",
       "      <th>mobile_wt</th>\n",
       "      <th>n_cores</th>\n",
       "      <th>...</th>\n",
       "      <th>px_height</th>\n",
       "      <th>px_width</th>\n",
       "      <th>ram</th>\n",
       "      <th>sc_h</th>\n",
       "      <th>sc_w</th>\n",
       "      <th>talk_time</th>\n",
       "      <th>three_g</th>\n",
       "      <th>touch_screen</th>\n",
       "      <th>wifi</th>\n",
       "      <th>price_range</th>\n",
       "    </tr>\n",
       "  </thead>\n",
       "  <tbody>\n",
       "    <tr>\n",
       "      <th>0</th>\n",
       "      <td>842</td>\n",
       "      <td>0</td>\n",
       "      <td>2.2</td>\n",
       "      <td>0</td>\n",
       "      <td>1</td>\n",
       "      <td>0</td>\n",
       "      <td>7.0</td>\n",
       "      <td>0.6</td>\n",
       "      <td>188</td>\n",
       "      <td>2</td>\n",
       "      <td>...</td>\n",
       "      <td>20</td>\n",
       "      <td>756.0</td>\n",
       "      <td>2549.0</td>\n",
       "      <td>9</td>\n",
       "      <td>7</td>\n",
       "      <td>19</td>\n",
       "      <td>0.0</td>\n",
       "      <td>0</td>\n",
       "      <td>1</td>\n",
       "      <td>1</td>\n",
       "    </tr>\n",
       "    <tr>\n",
       "      <th>1</th>\n",
       "      <td>1021</td>\n",
       "      <td>1</td>\n",
       "      <td>0.5</td>\n",
       "      <td>1</td>\n",
       "      <td>0</td>\n",
       "      <td>1</td>\n",
       "      <td>53.0</td>\n",
       "      <td>0.7</td>\n",
       "      <td>136</td>\n",
       "      <td>3</td>\n",
       "      <td>...</td>\n",
       "      <td>905</td>\n",
       "      <td>1988.0</td>\n",
       "      <td>2631.0</td>\n",
       "      <td>17</td>\n",
       "      <td>3</td>\n",
       "      <td>7</td>\n",
       "      <td>1.0</td>\n",
       "      <td>1</td>\n",
       "      <td>0</td>\n",
       "      <td>2</td>\n",
       "    </tr>\n",
       "    <tr>\n",
       "      <th>2</th>\n",
       "      <td>563</td>\n",
       "      <td>1</td>\n",
       "      <td>0.5</td>\n",
       "      <td>1</td>\n",
       "      <td>2</td>\n",
       "      <td>1</td>\n",
       "      <td>41.0</td>\n",
       "      <td>0.9</td>\n",
       "      <td>145</td>\n",
       "      <td>5</td>\n",
       "      <td>...</td>\n",
       "      <td>1263</td>\n",
       "      <td>1716.0</td>\n",
       "      <td>2603.0</td>\n",
       "      <td>11</td>\n",
       "      <td>2</td>\n",
       "      <td>9</td>\n",
       "      <td>1.0</td>\n",
       "      <td>1</td>\n",
       "      <td>0</td>\n",
       "      <td>2</td>\n",
       "    </tr>\n",
       "    <tr>\n",
       "      <th>3</th>\n",
       "      <td>615</td>\n",
       "      <td>1</td>\n",
       "      <td>2.5</td>\n",
       "      <td>0</td>\n",
       "      <td>0</td>\n",
       "      <td>0</td>\n",
       "      <td>10.0</td>\n",
       "      <td>0.8</td>\n",
       "      <td>131</td>\n",
       "      <td>6</td>\n",
       "      <td>...</td>\n",
       "      <td>1216</td>\n",
       "      <td>1786.0</td>\n",
       "      <td>2769.0</td>\n",
       "      <td>16</td>\n",
       "      <td>8</td>\n",
       "      <td>11</td>\n",
       "      <td>1.0</td>\n",
       "      <td>0</td>\n",
       "      <td>0</td>\n",
       "      <td>2</td>\n",
       "    </tr>\n",
       "    <tr>\n",
       "      <th>4</th>\n",
       "      <td>1821</td>\n",
       "      <td>1</td>\n",
       "      <td>1.2</td>\n",
       "      <td>0</td>\n",
       "      <td>13</td>\n",
       "      <td>1</td>\n",
       "      <td>44.0</td>\n",
       "      <td>0.6</td>\n",
       "      <td>141</td>\n",
       "      <td>2</td>\n",
       "      <td>...</td>\n",
       "      <td>1208</td>\n",
       "      <td>1212.0</td>\n",
       "      <td>1411.0</td>\n",
       "      <td>8</td>\n",
       "      <td>2</td>\n",
       "      <td>15</td>\n",
       "      <td>1.0</td>\n",
       "      <td>1</td>\n",
       "      <td>0</td>\n",
       "      <td>1</td>\n",
       "    </tr>\n",
       "  </tbody>\n",
       "</table>\n",
       "<p>5 rows × 21 columns</p>\n",
       "</div>"
      ],
      "text/plain": [
       "   battery_power  blue  clock_speed  dual_sim  fc  four_g  int_memory  m_dep  \\\n",
       "0            842     0          2.2         0   1       0         7.0    0.6   \n",
       "1           1021     1          0.5         1   0       1        53.0    0.7   \n",
       "2            563     1          0.5         1   2       1        41.0    0.9   \n",
       "3            615     1          2.5         0   0       0        10.0    0.8   \n",
       "4           1821     1          1.2         0  13       1        44.0    0.6   \n",
       "\n",
       "   mobile_wt  n_cores  ...  px_height  px_width     ram  sc_h  sc_w  \\\n",
       "0        188        2  ...         20     756.0  2549.0     9     7   \n",
       "1        136        3  ...        905    1988.0  2631.0    17     3   \n",
       "2        145        5  ...       1263    1716.0  2603.0    11     2   \n",
       "3        131        6  ...       1216    1786.0  2769.0    16     8   \n",
       "4        141        2  ...       1208    1212.0  1411.0     8     2   \n",
       "\n",
       "   talk_time  three_g  touch_screen  wifi  price_range  \n",
       "0         19      0.0             0     1            1  \n",
       "1          7      1.0             1     0            2  \n",
       "2          9      1.0             1     0            2  \n",
       "3         11      1.0             0     0            2  \n",
       "4         15      1.0             1     0            1  \n",
       "\n",
       "[5 rows x 21 columns]"
      ]
     },
     "execution_count": 21,
     "metadata": {},
     "output_type": "execute_result"
    }
   ],
   "source": [
    "dataset.head()"
   ]
  },
  {
   "cell_type": "code",
   "execution_count": 22,
   "metadata": {},
   "outputs": [
    {
     "name": "stdout",
     "output_type": "stream",
     "text": [
      "battery_power    0\n",
      "blue             0\n",
      "clock_speed      0\n",
      "dual_sim         0\n",
      "fc               0\n",
      "four_g           0\n",
      "int_memory       1\n",
      "m_dep            1\n",
      "mobile_wt        0\n",
      "n_cores          0\n",
      "pc               0\n",
      "px_height        0\n",
      "px_width         1\n",
      "ram              1\n",
      "sc_h             0\n",
      "sc_w             0\n",
      "talk_time        0\n",
      "three_g          1\n",
      "touch_screen     0\n",
      "wifi             0\n",
      "price_range      0\n",
      "dtype: int64\n"
     ]
    }
   ],
   "source": [
    "#dataset.info()\n",
    "missing_values = dataset.isnull().sum()\n",
    "print(missing_values)"
   ]
  },
  {
   "cell_type": "markdown",
   "metadata": {},
   "source": [
    " There is 5 missing values in the dataset\n",
    "  - As the dataset has a length of 2000 its a preety large amount and there is no need of impute those missing values with median.\n",
    "  - Those five rows will be simply deleted.\n",
    " "
   ]
  },
  {
   "cell_type": "code",
   "execution_count": 23,
   "metadata": {},
   "outputs": [
    {
     "name": "stdout",
     "output_type": "stream",
     "text": [
      "1995\n"
     ]
    }
   ],
   "source": [
    "#Romeving 5 rows with missing values\n",
    "clean_Dataset= dataset.dropna()\n",
    "print(len(clean_Dataset))"
   ]
  },
  {
   "cell_type": "code",
   "execution_count": 24,
   "metadata": {},
   "outputs": [
    {
     "name": "stdout",
     "output_type": "stream",
     "text": [
      "battery_power    0\n",
      "blue             0\n",
      "clock_speed      0\n",
      "dual_sim         0\n",
      "fc               0\n",
      "four_g           0\n",
      "int_memory       0\n",
      "m_dep            0\n",
      "mobile_wt        0\n",
      "n_cores          0\n",
      "pc               0\n",
      "px_height        0\n",
      "px_width         0\n",
      "ram              0\n",
      "sc_h             0\n",
      "sc_w             0\n",
      "talk_time        0\n",
      "three_g          0\n",
      "touch_screen     0\n",
      "wifi             0\n",
      "price_range      0\n",
      "dtype: int64\n"
     ]
    }
   ],
   "source": [
    "#Cheacking that clean_dataset has no missing values\n",
    "print(clean_Dataset.isnull().sum())"
   ]
  },
  {
   "cell_type": "code",
   "execution_count": 25,
   "metadata": {},
   "outputs": [],
   "source": [
    "#print(clean_Dataset.describe)"
   ]
  },
  {
   "cell_type": "code",
   "execution_count": 26,
   "metadata": {},
   "outputs": [
    {
     "name": "stdout",
     "output_type": "stream",
     "text": [
      "Feature: fc, Number of Outliers: 18\n",
      "Feature: px_height, Number of Outliers: 2\n",
      "Feature: three_g, Number of Outliers: 477\n"
     ]
    }
   ],
   "source": [
    "def detect_outliers(data, feature):\n",
    "    Q1 = data[feature].quantile(0.25)\n",
    "    Q3 = data[feature].quantile(0.75)\n",
    "    IQR = Q3 - Q1\n",
    "    lower_bound = Q1 - 1.5 * IQR\n",
    "    upper_bound = Q3 + 1.5 * IQR\n",
    "\n",
    "    # Filtering the outliers\n",
    "    outliers = clean_Dataset[(clean_Dataset[feature] < lower_bound) | (clean_Dataset[feature] > upper_bound)]\n",
    "    return outliers.index\n",
    "\n",
    "numerical_columns = clean_Dataset.select_dtypes(include=['number']).columns.tolist()\n",
    "\n",
    "\n",
    "outliers_dict = {}\n",
    "\n",
    "# Apply the outlier detection to each numerical feature\n",
    "for feature in numerical_columns:\n",
    "    outlier_indices = detect_outliers(clean_Dataset, feature)\n",
    "    if len(outlier_indices) > 0:\n",
    "        outliers_dict[feature] = outlier_indices\n",
    "\n",
    "for feature, indices in outliers_dict.items():\n",
    "    print(f\"Feature: {feature}, Number of Outliers: {len(indices)}\")"
   ]
  },
  {
   "cell_type": "markdown",
   "metadata": {},
   "source": [
    "### Using the IQR methord we can find that fc , px_height and three_g has abmornal values"
   ]
  },
  {
   "cell_type": "code",
   "execution_count": null,
   "metadata": {},
   "outputs": [],
   "source": []
  },
  {
   "cell_type": "code",
   "execution_count": 27,
   "metadata": {},
   "outputs": [],
   "source": [
    "features_with_outliers = ['fc', 'px_height', 'three_g']\n",
    "\n",
    "all_outlier_indices = set()\n",
    "\n",
    "# Collect all outlier indices\n",
    "for feature in features_with_outliers:\n",
    "    outlier_indices = detect_outliers(clean_Dataset, feature)\n",
    "    all_outlier_indices.update(outlier_indices)\n",
    "\n",
    "# Remove the outliers from the dataset_\n",
    "\n",
    "new_clean_data = clean_Dataset.drop(index=all_outlier_indices)"
   ]
  },
  {
   "cell_type": "code",
   "execution_count": 28,
   "metadata": {},
   "outputs": [
    {
     "name": "stdout",
     "output_type": "stream",
     "text": [
      "1501\n"
     ]
    }
   ],
   "source": [
    "print(len(new_clean_data))"
   ]
  },
  {
   "cell_type": "markdown",
   "metadata": {},
   "source": [
    "### After cleaning the outliers, the dataset has 1501 entries\n",
    " Now the next steps will be done by using the new dataset named \"new_clean_data\""
   ]
  },
  {
   "cell_type": "code",
   "execution_count": null,
   "metadata": {},
   "outputs": [],
   "source": []
  },
  {
   "cell_type": "code",
   "execution_count": 29,
   "metadata": {},
   "outputs": [
    {
     "name": "stdout",
     "output_type": "stream",
     "text": [
      "touch_screen    -0.029104\n",
      "mobile_wt       -0.019009\n",
      "clock_speed     -0.008848\n",
      "four_g           0.000978\n",
      "n_cores          0.002502\n",
      "dual_sim         0.003173\n",
      "talk_time        0.004724\n",
      "sc_h             0.011306\n",
      "blue             0.013175\n",
      "wifi             0.015114\n",
      "m_dep            0.017327\n",
      "fc               0.023458\n",
      "sc_w             0.032297\n",
      "int_memory       0.039095\n",
      "pc               0.045168\n",
      "px_height        0.137976\n",
      "px_width         0.154740\n",
      "battery_power    0.200931\n",
      "ram              0.917849\n",
      "price_range      1.000000\n",
      "three_g               NaN\n",
      "Name: price_range, dtype: float64\n"
     ]
    }
   ],
   "source": [
    "# Calculate the correlation matrix\n",
    "correlation_matrix = new_clean_data.corr()\n",
    "\n",
    "# Extract correlations with 'price_range'\n",
    "price_range_correlations = correlation_matrix['price_range'].sort_values()\n",
    "\n",
    "print(price_range_correlations)\n"
   ]
  },
  {
   "cell_type": "markdown",
   "metadata": {},
   "source": [
    "##### \"price_range\" has strong correlation with \"Ram\" and \"battery_power\""
   ]
  },
  {
   "cell_type": "code",
   "execution_count": null,
   "metadata": {},
   "outputs": [],
   "source": []
  },
  {
   "cell_type": "markdown",
   "metadata": {},
   "source": []
  },
  {
   "cell_type": "code",
   "execution_count": 30,
   "metadata": {},
   "outputs": [
    {
     "name": "stdout",
     "output_type": "stream",
     "text": [
      "Training set size: (1200, 2)\n",
      "Test set size: (301, 2)\n"
     ]
    }
   ],
   "source": [
    "X = new_clean_data[['ram', 'battery_power']]  \n",
    "y = new_clean_data['price_range']             \n",
    "\n",
    "X_train, X_test, y_train, y_test = train_test_split(X, y, test_size=0.2, random_state=42)\n",
    "\n",
    "print(\"Training set size:\", X_train.shape)\n",
    "print(\"Test set size:\", X_test.shape)"
   ]
  },
  {
   "cell_type": "markdown",
   "metadata": {},
   "source": [
    "- Firstly, I am selecting features Ram and Battery Power then store it to X variable.\n",
    "- Similarly, Y variable is holding targeted variable \"Price range\"\n",
    "- Then, splited the dataset 80% training and 20% testing\n"
   ]
  },
  {
   "cell_type": "code",
   "execution_count": 31,
   "metadata": {},
   "outputs": [
    {
     "name": "stdout",
     "output_type": "stream",
     "text": [
      "Training set accuracy: 0.8175\n",
      "Test set accuracy: 0.840531561461794\n"
     ]
    }
   ],
   "source": [
    "# Creating a logistic regression model\n",
    "model = LogisticRegression(max_iter=1000, random_state=42)\n",
    "\n",
    "# Train the model\n",
    "model.fit(X_train, y_train)\n",
    "\n",
    "# Predictions on the training set and test set\n",
    "y_train_pred = model.predict(X_train)\n",
    "y_test_pred = model.predict(X_test)\n",
    "\n",
    "train_accuracy = accuracy_score(y_train, y_train_pred)\n",
    "test_accuracy = accuracy_score(y_test, y_test_pred)\n",
    "\n",
    "print(\"Training set accuracy:\", train_accuracy)\n",
    "print(\"Test set accuracy:\", test_accuracy)"
   ]
  },
  {
   "cell_type": "markdown",
   "metadata": {},
   "source": [
    "#### From the above results the training and testing accuracy is signifantly high as Ram has a very strong correlation.\n",
    "* Therefore, testing set has a high accuracy means the model is not over fitting."
   ]
  },
  {
   "cell_type": "code",
   "execution_count": null,
   "metadata": {},
   "outputs": [],
   "source": []
  },
  {
   "cell_type": "code",
   "execution_count": 32,
   "metadata": {
    "scrolled": true
   },
   "outputs": [
    {
     "name": "stdout",
     "output_type": "stream",
     "text": [
      "Training set accuracy: 0.8375\n",
      "Test set accuracy: 0.8272425249169435\n"
     ]
    }
   ],
   "source": [
    "knn = KNeighborsClassifier(n_neighbors=9)\n",
    "\n",
    "# Train the model\n",
    "knn.fit(X_train, y_train)\n",
    "\n",
    "# Predictions on the training set and test set\n",
    "y_train_pred = knn.predict(X_train)\n",
    "y_test_pred = knn.predict(X_test)\n",
    "\n",
    "# Calculate accuracy on the training set and test set\n",
    "train_accuracy = accuracy_score(y_train, y_train_pred)\n",
    "test_accuracy = accuracy_score(y_test, y_test_pred)\n",
    "\n",
    "print(\"Training set accuracy:\", train_accuracy)\n",
    "print(\"Test set accuracy:\", test_accuracy)"
   ]
  },
  {
   "cell_type": "markdown",
   "metadata": {},
   "source": [
    "* The KNeighborsClassifier is set with \"n_neighbors=9\"\n",
    "* k is representing how many nearest neighbors in the feature space the algorithm considers when making a prediction.\n",
    "* K too small may overfit and k too high mayunderfit\n",
    "\n",
    "Overall, the knn model is perfoming well. price_range having good correlation with Ram and battery_power is a big factor. Therefore,\n",
    "k=5 for the number of neighbors seems to be effective for this dataset, balancing between overfitting and underfitting.\n",
    "Adding more features like px_width and px_hight may even increase the accuracy."
   ]
  },
  {
   "cell_type": "code",
   "execution_count": null,
   "metadata": {},
   "outputs": [],
   "source": []
  },
  {
   "cell_type": "code",
   "execution_count": 33,
   "metadata": {},
   "outputs": [
    {
     "data": {
      "image/png": "[encoded data removed]",
      "text/plain": [
       "<Figure size 640x480 with 1 Axes>"
      ]
     },
     "metadata": {},
     "output_type": "display_data"
    },
    {
     "name": "stdout",
     "output_type": "stream",
     "text": [
      "Best K Value: {'n_neighbors': 22}\n",
      "Best cross-validated accuracy: 0.8133333333333332\n"
     ]
    }
   ],
   "source": [
    "k_range = list(range(1, 31))  \n",
    "param_grid = dict(n_neighbors=k_range)\n",
    "knn = KNeighborsClassifier()\n",
    "grid = GridSearchCV(knn, param_grid, cv=10, scoring='accuracy', return_train_score=False)\n",
    "\n",
    "grid.fit(X_train, y_train)\n",
    "\n",
    "# Viewing the results\n",
    "results = pd.DataFrame(grid.cv_results_)[['mean_test_score', 'std_test_score', 'params']]\n",
    "\n",
    "# Plotting mean accuracy scores for each k\n",
    "plt.plot(k_range, results['mean_test_score'])\n",
    "plt.xlabel('Value of K ')\n",
    "plt.ylabel('Cross-Validated Accuracy')\n",
    "plt.title('K Value vs Accuracy')\n",
    "plt.show()\n",
    "\n",
    "print(\"Best K Value:\", grid.best_params_)\n",
    "print(\"Best cross-validated accuracy:\", grid.best_score_)"
   ]
  },
  {
   "cell_type": "markdown",
   "metadata": {},
   "source": [
    "* Firstly, I defined a range of potential K values (1 to 31)\n",
    "* Secondly,Run \"GridSearchCV\" on the training data.\n",
    "* Thirdly, get the 'mean_test_score' for every values of k\n",
    "* Finally, Useing a line chart to visualize K versus mean accuracy scores."
   ]
  },
  {
   "cell_type": "markdown",
   "metadata": {},
   "source": [
    "### Analyzing how K influences the prediction performance.\n",
    "\n",
    "- when k is too small it is only considering the nearest neighbours. Which may causing overfitting.Therefore,\n",
    "the model is following the training dataset and not performing well in unseen dataset.\n",
    "- When k is increasing, the model starts considering more neighbours. Eventually the model is Performing well.\n",
    "- However, when k is too high, the model is considering too many points.It may cause overfitting.\n",
    "\n",
    "##### The knn model performs best to predict \"Price Range\" when K is 22 (81.3% accuracy)"
   ]
  },
  {
   "cell_type": "code",
   "execution_count": null,
   "metadata": {},
   "outputs": [],
   "source": []
  },
  {
   "cell_type": "code",
   "execution_count": null,
   "metadata": {},
   "outputs": [],
   "source": []
  }
 ],
 "metadata": {
  "colab": {
   "provenance": []
  },
  "kernelspec": {
   "display_name": "Python 3 (ipykernel)",
   "language": "python",
   "name": "python3"
  },
  "language_info": {
   "codemirror_mode": {
    "name": "ipython",
    "version": 3
   },
   "file_extension": ".py",
   "mimetype": "text/x-python",
   "name": "python",
   "nbconvert_exporter": "python",
   "pygments_lexer": "ipython3",
   "version": "3.11.7"
  }
 },
 "nbformat": 4,
 "nbformat_minor": 4
}
